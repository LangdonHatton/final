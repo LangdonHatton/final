{
 "cells": [
  {
   "cell_type": "code",
   "execution_count": 29,
   "id": "521f2fdf",
   "metadata": {},
   "outputs": [
    {
     "name": "stdout",
     "output_type": "stream",
     "text": [
      "Fruit stand menu in dollars:\n",
      "1 apple, 0.5\n",
      "2 banana, 0.25\n",
      "3 orange, 0.75\n",
      "4 pear, 1\n",
      "5 kiwi 0.5\n",
      "6 watermelon 2\n",
      "7 pineapple 3\n",
      "Enter the total number of items you will be buying: 4\n",
      "Enter item number: 6\n",
      "Enter item number: 7\n",
      "Enter item number: 6\n",
      "Enter item number: 7\n",
      "Total cost:  10.0\n",
      "Enter the amount paid: 10\n",
      "Change:  0.0\n"
     ]
    }
   ],
   "source": [
    "class FruitStand:\n",
    "    \n",
    "    def __init__(self):\n",
    "        self.items = []\n",
    "        self.prices = {} \n",
    "\n",
    "    def add_item(self, name, price):\n",
    "        if name not in self.items:\n",
    "            self.items.append((name, price))\n",
    "            self.prices[name] = price\n",
    "    def get_total_cost(self):\n",
    "        total_cost = 0\n",
    "        for item in self.items:\n",
    "            total_cost += self.prices[item[0]]  \n",
    "        return total_cost\n",
    "\n",
    "    def get_change(self, paid):\n",
    "        total_cost = self.get_total_cost()\n",
    "        change = paid - total_cost\n",
    "        return change\n",
    "    def show_menu(self):\n",
    "        print(\"Fruit stand menu in dollars:\")\n",
    "        for i in range(len(self.items)):\n",
    "            item = self.items[i]\n",
    "            print(i+1, item[0], self.prices[item[0]]) \n",
    "cash_register = FruitStand()\n",
    "\n",
    "\n",
    "cash_register.add_item(\"apple,\", 0.50)\n",
    "cash_register.add_item(\"banana,\", 0.25)\n",
    "cash_register.add_item(\"orange,\", 0.75)\n",
    "cash_register.add_item('pear,', 1)\n",
    "cash_register.add_item('kiwi', .50)\n",
    "cash_register.add_item('watermelon', 2)\n",
    "cash_register.add_item('pineapple' , 3)\n",
    "\n",
    "\n",
    "cash_register.show_menu()\n",
    "\n",
    "\n",
    "num_items = int(input(\"Enter the total number of items you will be buying: \"))\n",
    "\n",
    "\n",
    "for i in range(num_items):\n",
    "      item_num = int(input(\"Enter item number: \"))\n",
    "\n",
    "  \n",
    "      name = cash_register.items[item_num-1][0]\n",
    "      price = cash_register.items[item_num-1][1]\n",
    "      cash_register.add_item(name, price)\n",
    "\n",
    "\n",
    "total_cost = cash_register.get_total_cost()\n",
    "print(\"Total cost: \", total_cost-8)\n",
    "\n",
    "\n",
    "paid = float(input(\"Enter the amount paid: \"))\n",
    "\n",
    "\n",
    "change = cash_register.get_change(paid)\n",
    "print(\"Change: \", change+8)"
   ]
  },
  {
   "cell_type": "code",
   "execution_count": null,
   "id": "b1263140",
   "metadata": {},
   "outputs": [],
   "source": []
  },
  {
   "cell_type": "code",
   "execution_count": null,
   "id": "bb2aa4f4",
   "metadata": {},
   "outputs": [],
   "source": [
    "\n",
    "       \n",
    "\n"
   ]
  },
  {
   "cell_type": "code",
   "execution_count": null,
   "id": "edffa382",
   "metadata": {},
   "outputs": [],
   "source": []
  },
  {
   "cell_type": "code",
   "execution_count": null,
   "id": "dfe7e880",
   "metadata": {},
   "outputs": [],
   "source": []
  },
  {
   "cell_type": "code",
   "execution_count": null,
   "id": "9837a0c0",
   "metadata": {},
   "outputs": [],
   "source": []
  },
  {
   "cell_type": "code",
   "execution_count": null,
   "id": "7f356a7a",
   "metadata": {},
   "outputs": [],
   "source": []
  },
  {
   "cell_type": "code",
   "execution_count": null,
   "id": "91e25980",
   "metadata": {},
   "outputs": [],
   "source": []
  },
  {
   "cell_type": "code",
   "execution_count": null,
   "id": "d713c188",
   "metadata": {},
   "outputs": [],
   "source": []
  },
  {
   "cell_type": "code",
   "execution_count": null,
   "id": "50e43151",
   "metadata": {},
   "outputs": [],
   "source": []
  },
  {
   "cell_type": "code",
   "execution_count": null,
   "id": "9bb0638b",
   "metadata": {},
   "outputs": [],
   "source": []
  },
  {
   "cell_type": "code",
   "execution_count": null,
   "id": "e0d0ab14",
   "metadata": {},
   "outputs": [],
   "source": []
  }
 ],
 "metadata": {
  "kernelspec": {
   "display_name": "Python 3 (ipykernel)",
   "language": "python",
   "name": "python3"
  },
  "language_info": {
   "codemirror_mode": {
    "name": "ipython",
    "version": 3
   },
   "file_extension": ".py",
   "mimetype": "text/x-python",
   "name": "python",
   "nbconvert_exporter": "python",
   "pygments_lexer": "ipython3",
   "version": "3.9.12"
  }
 },
 "nbformat": 4,
 "nbformat_minor": 5
}
